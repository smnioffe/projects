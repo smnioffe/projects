{
 "cells": [
  {
   "cell_type": "code",
   "execution_count": 41,
   "metadata": {
    "collapsed": false
   },
   "outputs": [],
   "source": [
    "# imports a library 'pandas', names it as 'pd'\n",
    "\n",
    "import pandas as pd\n",
    "import matplotlib.pyplot as plt\n",
    "import statsmodels.formula.api as smf\n",
    "import numpy as np\n",
    "import seaborn as sns\n",
    "from seaborn import plt\n",
    "from sklearn.linear_model import LinearRegression\n",
    "\n",
    "from sklearn.cross_validation import train_test_split\n",
    "from sklearn.linear_model import RidgeCV\n",
    "\n",
    "\n",
    "# enables inline plots, without it plots don't show up in the notebook\n",
    "%matplotlib inline"
   ]
  },
  {
   "cell_type": "code",
   "execution_count": 42,
   "metadata": {
    "collapsed": false
   },
   "outputs": [],
   "source": [
    "read_in_file =pd.read_csv('C:/Users/Simon/Desktop/smnioffe/local/appt1.csv')#, nrows=1000000)"
   ]
  },
  {
   "cell_type": "code",
   "execution_count": null,
   "metadata": {
    "collapsed": false
   },
   "outputs": [],
   "source": []
  },
  {
   "cell_type": "code",
   "execution_count": 43,
   "metadata": {
    "collapsed": false
   },
   "outputs": [
    {
     "data": {
      "text/html": [
       "<div>\n",
       "<table border=\"1\" class=\"dataframe\">\n",
       "  <thead>\n",
       "    <tr style=\"text-align: right;\">\n",
       "      <th></th>\n",
       "      <th>﻿app_month</th>\n",
       "      <th>appt_begintime</th>\n",
       "      <th>weekday</th>\n",
       "      <th>kept</th>\n",
       "      <th>rescheduled</th>\n",
       "      <th>cancelled</th>\n",
       "      <th>last_kept</th>\n",
       "      <th>last_rescheduled</th>\n",
       "      <th>last_cancelled</th>\n",
       "      <th>kept_perc</th>\n",
       "      <th>...</th>\n",
       "      <th>eth_refused</th>\n",
       "      <th>eth_hispanic</th>\n",
       "      <th>lang_Eng</th>\n",
       "      <th>lang_Chi</th>\n",
       "      <th>lang_Spa</th>\n",
       "      <th>lang_Other</th>\n",
       "      <th>male</th>\n",
       "      <th>female</th>\n",
       "      <th>income</th>\n",
       "      <th>depression</th>\n",
       "    </tr>\n",
       "  </thead>\n",
       "  <tbody>\n",
       "    <tr>\n",
       "      <th>0</th>\n",
       "      <td>2</td>\n",
       "      <td>9</td>\n",
       "      <td>2</td>\n",
       "      <td>0</td>\n",
       "      <td>0</td>\n",
       "      <td>1</td>\n",
       "      <td>1</td>\n",
       "      <td>0</td>\n",
       "      <td>0</td>\n",
       "      <td>0.818181</td>\n",
       "      <td>...</td>\n",
       "      <td>0</td>\n",
       "      <td>0</td>\n",
       "      <td>1</td>\n",
       "      <td>0</td>\n",
       "      <td>0</td>\n",
       "      <td>0</td>\n",
       "      <td>0</td>\n",
       "      <td>1</td>\n",
       "      <td>659078</td>\n",
       "      <td>0</td>\n",
       "    </tr>\n",
       "    <tr>\n",
       "      <th>1</th>\n",
       "      <td>2</td>\n",
       "      <td>16</td>\n",
       "      <td>5</td>\n",
       "      <td>1</td>\n",
       "      <td>0</td>\n",
       "      <td>0</td>\n",
       "      <td>0</td>\n",
       "      <td>0</td>\n",
       "      <td>1</td>\n",
       "      <td>0.750000</td>\n",
       "      <td>...</td>\n",
       "      <td>0</td>\n",
       "      <td>0</td>\n",
       "      <td>1</td>\n",
       "      <td>0</td>\n",
       "      <td>0</td>\n",
       "      <td>0</td>\n",
       "      <td>0</td>\n",
       "      <td>1</td>\n",
       "      <td>659078</td>\n",
       "      <td>0</td>\n",
       "    </tr>\n",
       "    <tr>\n",
       "      <th>2</th>\n",
       "      <td>5</td>\n",
       "      <td>14</td>\n",
       "      <td>2</td>\n",
       "      <td>1</td>\n",
       "      <td>0</td>\n",
       "      <td>0</td>\n",
       "      <td>1</td>\n",
       "      <td>0</td>\n",
       "      <td>0</td>\n",
       "      <td>1.000000</td>\n",
       "      <td>...</td>\n",
       "      <td>0</td>\n",
       "      <td>0</td>\n",
       "      <td>1</td>\n",
       "      <td>0</td>\n",
       "      <td>0</td>\n",
       "      <td>0</td>\n",
       "      <td>0</td>\n",
       "      <td>1</td>\n",
       "      <td>659078</td>\n",
       "      <td>0</td>\n",
       "    </tr>\n",
       "    <tr>\n",
       "      <th>3</th>\n",
       "      <td>7</td>\n",
       "      <td>9</td>\n",
       "      <td>3</td>\n",
       "      <td>1</td>\n",
       "      <td>0</td>\n",
       "      <td>0</td>\n",
       "      <td>1</td>\n",
       "      <td>0</td>\n",
       "      <td>0</td>\n",
       "      <td>0.785714</td>\n",
       "      <td>...</td>\n",
       "      <td>0</td>\n",
       "      <td>0</td>\n",
       "      <td>1</td>\n",
       "      <td>0</td>\n",
       "      <td>0</td>\n",
       "      <td>0</td>\n",
       "      <td>0</td>\n",
       "      <td>1</td>\n",
       "      <td>659078</td>\n",
       "      <td>0</td>\n",
       "    </tr>\n",
       "    <tr>\n",
       "      <th>4</th>\n",
       "      <td>8</td>\n",
       "      <td>9</td>\n",
       "      <td>2</td>\n",
       "      <td>0</td>\n",
       "      <td>0</td>\n",
       "      <td>1</td>\n",
       "      <td>1</td>\n",
       "      <td>0</td>\n",
       "      <td>0</td>\n",
       "      <td>1.000000</td>\n",
       "      <td>...</td>\n",
       "      <td>0</td>\n",
       "      <td>0</td>\n",
       "      <td>1</td>\n",
       "      <td>0</td>\n",
       "      <td>0</td>\n",
       "      <td>0</td>\n",
       "      <td>0</td>\n",
       "      <td>1</td>\n",
       "      <td>659078</td>\n",
       "      <td>0</td>\n",
       "    </tr>\n",
       "  </tbody>\n",
       "</table>\n",
       "<p>5 rows × 24 columns</p>\n",
       "</div>"
      ],
      "text/plain": [
       "   ﻿app_month  appt_begintime  weekday  kept  rescheduled  cancelled  \\\n",
       "0           2               9        2     0            0          1   \n",
       "1           2              16        5     1            0          0   \n",
       "2           5              14        2     1            0          0   \n",
       "3           7               9        3     1            0          0   \n",
       "4           8               9        2     0            0          1   \n",
       "\n",
       "   last_kept  last_rescheduled  last_cancelled  kept_perc     ...      \\\n",
       "0          1                 0               0   0.818181     ...       \n",
       "1          0                 0               1   0.750000     ...       \n",
       "2          1                 0               0   1.000000     ...       \n",
       "3          1                 0               0   0.785714     ...       \n",
       "4          1                 0               0   1.000000     ...       \n",
       "\n",
       "   eth_refused  eth_hispanic  lang_Eng  lang_Chi  lang_Spa  lang_Other  male  \\\n",
       "0            0             0         1         0         0           0     0   \n",
       "1            0             0         1         0         0           0     0   \n",
       "2            0             0         1         0         0           0     0   \n",
       "3            0             0         1         0         0           0     0   \n",
       "4            0             0         1         0         0           0     0   \n",
       "\n",
       "   female  income  depression  \n",
       "0       1  659078           0  \n",
       "1       1  659078           0  \n",
       "2       1  659078           0  \n",
       "3       1  659078           0  \n",
       "4       1  659078           0  \n",
       "\n",
       "[5 rows x 24 columns]"
      ]
     },
     "execution_count": 43,
     "metadata": {},
     "output_type": "execute_result"
    }
   ],
   "source": [
    "read_in_file = read_in_file.dropna()\n",
    "df= read_in_file.copy()\n",
    "df.head()"
   ]
  },
  {
   "cell_type": "code",
   "execution_count": 46,
   "metadata": {
    "collapsed": false
   },
   "outputs": [
    {
     "data": {
      "text/plain": [
       "Index([u'﻿app_month', u'appt_begintime', u'weekday', u'kept', u'rescheduled',\n",
       "       u'cancelled', u'last_kept', u'last_rescheduled', u'last_cancelled',\n",
       "       u'kept_perc', u'can_perc', u'resch_perc', u'age', u'eth_not_hispanic',\n",
       "       u'eth_refused', u'eth_hispanic', u'lang_Eng', u'lang_Chi', u'lang_Spa',\n",
       "       u'lang_Other', u'male', u'female', u'income', u'depression', u'wkday_1',\n",
       "       u'wkday_2', u'wkday_3', u'wkday_4', u'wkday_5', u'wkday_6', u'wkday_7'],\n",
       "      dtype='object')"
      ]
     },
     "execution_count": 46,
     "metadata": {},
     "output_type": "execute_result"
    }
   ],
   "source": [
    "df.columns"
   ]
  },
  {
   "cell_type": "code",
   "execution_count": 47,
   "metadata": {
    "collapsed": false
   },
   "outputs": [],
   "source": [
    "df = pd.concat([df, pd.get_dummies(df['weekday'], prefix='wkday')], axis=1)"
   ]
  },
  {
   "cell_type": "code",
   "execution_count": 48,
   "metadata": {
    "collapsed": false
   },
   "outputs": [
    {
     "data": {
      "text/html": [
       "<div>\n",
       "<table border=\"1\" class=\"dataframe\">\n",
       "  <thead>\n",
       "    <tr style=\"text-align: right;\">\n",
       "      <th></th>\n",
       "      <th>﻿app_month</th>\n",
       "      <th>appt_begintime</th>\n",
       "      <th>weekday</th>\n",
       "      <th>kept</th>\n",
       "      <th>rescheduled</th>\n",
       "      <th>cancelled</th>\n",
       "      <th>last_kept</th>\n",
       "      <th>last_rescheduled</th>\n",
       "      <th>last_cancelled</th>\n",
       "      <th>kept_perc</th>\n",
       "      <th>...</th>\n",
       "      <th>wkday_5</th>\n",
       "      <th>wkday_6</th>\n",
       "      <th>wkday_7</th>\n",
       "      <th>wkday_1</th>\n",
       "      <th>wkday_2</th>\n",
       "      <th>wkday_3</th>\n",
       "      <th>wkday_4</th>\n",
       "      <th>wkday_5</th>\n",
       "      <th>wkday_6</th>\n",
       "      <th>wkday_7</th>\n",
       "    </tr>\n",
       "  </thead>\n",
       "  <tbody>\n",
       "    <tr>\n",
       "      <th>0</th>\n",
       "      <td>2</td>\n",
       "      <td>9</td>\n",
       "      <td>2</td>\n",
       "      <td>0</td>\n",
       "      <td>0</td>\n",
       "      <td>1</td>\n",
       "      <td>1</td>\n",
       "      <td>0</td>\n",
       "      <td>0</td>\n",
       "      <td>0.818181</td>\n",
       "      <td>...</td>\n",
       "      <td>0</td>\n",
       "      <td>0</td>\n",
       "      <td>0</td>\n",
       "      <td>0</td>\n",
       "      <td>1</td>\n",
       "      <td>0</td>\n",
       "      <td>0</td>\n",
       "      <td>0</td>\n",
       "      <td>0</td>\n",
       "      <td>0</td>\n",
       "    </tr>\n",
       "    <tr>\n",
       "      <th>1</th>\n",
       "      <td>2</td>\n",
       "      <td>16</td>\n",
       "      <td>5</td>\n",
       "      <td>1</td>\n",
       "      <td>0</td>\n",
       "      <td>0</td>\n",
       "      <td>0</td>\n",
       "      <td>0</td>\n",
       "      <td>1</td>\n",
       "      <td>0.750000</td>\n",
       "      <td>...</td>\n",
       "      <td>1</td>\n",
       "      <td>0</td>\n",
       "      <td>0</td>\n",
       "      <td>0</td>\n",
       "      <td>0</td>\n",
       "      <td>0</td>\n",
       "      <td>0</td>\n",
       "      <td>1</td>\n",
       "      <td>0</td>\n",
       "      <td>0</td>\n",
       "    </tr>\n",
       "    <tr>\n",
       "      <th>2</th>\n",
       "      <td>5</td>\n",
       "      <td>14</td>\n",
       "      <td>2</td>\n",
       "      <td>1</td>\n",
       "      <td>0</td>\n",
       "      <td>0</td>\n",
       "      <td>1</td>\n",
       "      <td>0</td>\n",
       "      <td>0</td>\n",
       "      <td>1.000000</td>\n",
       "      <td>...</td>\n",
       "      <td>0</td>\n",
       "      <td>0</td>\n",
       "      <td>0</td>\n",
       "      <td>0</td>\n",
       "      <td>1</td>\n",
       "      <td>0</td>\n",
       "      <td>0</td>\n",
       "      <td>0</td>\n",
       "      <td>0</td>\n",
       "      <td>0</td>\n",
       "    </tr>\n",
       "    <tr>\n",
       "      <th>3</th>\n",
       "      <td>7</td>\n",
       "      <td>9</td>\n",
       "      <td>3</td>\n",
       "      <td>1</td>\n",
       "      <td>0</td>\n",
       "      <td>0</td>\n",
       "      <td>1</td>\n",
       "      <td>0</td>\n",
       "      <td>0</td>\n",
       "      <td>0.785714</td>\n",
       "      <td>...</td>\n",
       "      <td>0</td>\n",
       "      <td>0</td>\n",
       "      <td>0</td>\n",
       "      <td>0</td>\n",
       "      <td>0</td>\n",
       "      <td>1</td>\n",
       "      <td>0</td>\n",
       "      <td>0</td>\n",
       "      <td>0</td>\n",
       "      <td>0</td>\n",
       "    </tr>\n",
       "    <tr>\n",
       "      <th>4</th>\n",
       "      <td>8</td>\n",
       "      <td>9</td>\n",
       "      <td>2</td>\n",
       "      <td>0</td>\n",
       "      <td>0</td>\n",
       "      <td>1</td>\n",
       "      <td>1</td>\n",
       "      <td>0</td>\n",
       "      <td>0</td>\n",
       "      <td>1.000000</td>\n",
       "      <td>...</td>\n",
       "      <td>0</td>\n",
       "      <td>0</td>\n",
       "      <td>0</td>\n",
       "      <td>0</td>\n",
       "      <td>1</td>\n",
       "      <td>0</td>\n",
       "      <td>0</td>\n",
       "      <td>0</td>\n",
       "      <td>0</td>\n",
       "      <td>0</td>\n",
       "    </tr>\n",
       "  </tbody>\n",
       "</table>\n",
       "<p>5 rows × 38 columns</p>\n",
       "</div>"
      ],
      "text/plain": [
       "   ﻿app_month  appt_begintime  weekday  kept  rescheduled  cancelled  \\\n",
       "0           2               9        2     0            0          1   \n",
       "1           2              16        5     1            0          0   \n",
       "2           5              14        2     1            0          0   \n",
       "3           7               9        3     1            0          0   \n",
       "4           8               9        2     0            0          1   \n",
       "\n",
       "   last_kept  last_rescheduled  last_cancelled  kept_perc   ...     wkday_5  \\\n",
       "0          1                 0               0   0.818181   ...           0   \n",
       "1          0                 0               1   0.750000   ...           1   \n",
       "2          1                 0               0   1.000000   ...           0   \n",
       "3          1                 0               0   0.785714   ...           0   \n",
       "4          1                 0               0   1.000000   ...           0   \n",
       "\n",
       "   wkday_6  wkday_7  wkday_1  wkday_2  wkday_3  wkday_4  wkday_5  wkday_6  \\\n",
       "0        0        0        0        1        0        0        0        0   \n",
       "1        0        0        0        0        0        0        1        0   \n",
       "2        0        0        0        1        0        0        0        0   \n",
       "3        0        0        0        0        1        0        0        0   \n",
       "4        0        0        0        1        0        0        0        0   \n",
       "\n",
       "   wkday_7  \n",
       "0        0  \n",
       "1        0  \n",
       "2        0  \n",
       "3        0  \n",
       "4        0  \n",
       "\n",
       "[5 rows x 38 columns]"
      ]
     },
     "execution_count": 48,
     "metadata": {},
     "output_type": "execute_result"
    }
   ],
   "source": [
    "df.head()"
   ]
  },
  {
   "cell_type": "code",
   "execution_count": 53,
   "metadata": {
    "collapsed": false
   },
   "outputs": [
    {
     "data": {
      "text/plain": [
       "Index([u'month', u'appt_begintime', u'weekday', u'kept', u'rescheduled',\n",
       "       u'cancelled', u'last_kept', u'last_rescheduled', u'last_cancelled',\n",
       "       u'kept_perc', u'can_perc', u'resch_perc', u'age', u'eth_not_hispanic',\n",
       "       u'eth_refused', u'eth_hispanic', u'lang_Eng', u'lang_Chi', u'lang_Spa',\n",
       "       u'lang_Other', u'male', u'female', u'income', u'depression', u'wkday_1',\n",
       "       u'wkday_2', u'wkday_3', u'wkday_4', u'wkday_5', u'wkday_6', u'wkday_7',\n",
       "       u'wkday_1', u'wkday_2', u'wkday_3', u'wkday_4', u'wkday_5', u'wkday_6',\n",
       "       u'wkday_7'],\n",
       "      dtype='object')"
      ]
     },
     "execution_count": 53,
     "metadata": {},
     "output_type": "execute_result"
    }
   ],
   "source": [
    "cols = ['month']\n",
    "for i in range(1, len(df.columns)):\n",
    "    cols.append(df.columns[i])\n",
    "df.columns = cols\n",
    "df.columns"
   ]
  },
  {
   "cell_type": "code",
   "execution_count": 54,
   "metadata": {
    "collapsed": false
   },
   "outputs": [],
   "source": [
    "df = pd.concat([df, pd.get_dummies(df['month'], prefix='month')], axis=1)"
   ]
  },
  {
   "cell_type": "code",
   "execution_count": null,
   "metadata": {
    "collapsed": false
   },
   "outputs": [],
   "source": [
    "#break out ages into discrete groups\n",
    "\n",
    "df['age_65_and_over'] = 0\n",
    "df['age_under_5'] = 0\n",
    "df['age_5_17'] = 0\n",
    "df['age_18_29'] = 0\n",
    "df['age_30_44'] = 0\n",
    "df['age_45_64'] = 0\n",
    "\n",
    "\n",
    "df['age_65_and_over'] = df.age.map(lambda x: 1 if (x > 64) else 0)\n",
    "df['age_under_5'] = df.age.map(lambda x: 1 if (x < 5) else 0)\n",
    "df['age_5_17'] = df.age.map(lambda x: 1 if (x > 4 and x <18 ) else 0)\n",
    "df['age_18_29'] = df.age.map(lambda x: 1 if (x > 17 and x <30 ) else 0)\n",
    "df['age_30_44'] = df.age.map(lambda x: 1 if (x > 29 and x <45 ) else 0)\n",
    "df['age_45_64'] = df.age.map(lambda x: 1 if (x > 44 and x <65 ) else 0)\n",
    "\n",
    "df.head()"
   ]
  },
  {
   "cell_type": "code",
   "execution_count": null,
   "metadata": {
    "collapsed": false
   },
   "outputs": [],
   "source": []
  },
  {
   "cell_type": "code",
   "execution_count": null,
   "metadata": {
    "collapsed": false
   },
   "outputs": [],
   "source": [
    "df = pd.concat([df, pd.get_dummies(df['appt_begintime'], prefix='hour')], axis=1)"
   ]
  },
  {
   "cell_type": "code",
   "execution_count": null,
   "metadata": {
    "collapsed": true
   },
   "outputs": [],
   "source": [
    "columnNames=df.columns"
   ]
  },
  {
   "cell_type": "code",
   "execution_count": null,
   "metadata": {
    "collapsed": false
   },
   "outputs": [],
   "source": [
    "from sklearn import preprocessing\n",
    "\n",
    "xi = df.values #returns a numpy array\n",
    "min_max_scaler = preprocessing.MinMaxScaler()\n",
    "xi_scaled = min_max_scaler.fit_transform(xi)\n",
    "df = pd.DataFrame(xi_scaled)\n",
    "\n",
    "\n",
    "df.columns=columnNames\n",
    "\n",
    "df.head(100)"
   ]
  },
  {
   "cell_type": "code",
   "execution_count": null,
   "metadata": {
    "collapsed": false
   },
   "outputs": [],
   "source": [
    "df.corr()"
   ]
  },
  {
   "cell_type": "code",
   "execution_count": null,
   "metadata": {
    "collapsed": false
   },
   "outputs": [],
   "source": [
    "#df.corr()['kept'].order(ascending=False)"
   ]
  },
  {
   "cell_type": "code",
   "execution_count": null,
   "metadata": {
    "collapsed": false
   },
   "outputs": [],
   "source": [
    "#k=corrVals[corrVals.ix[:1]>.001]\n",
    "#print(k)"
   ]
  },
  {
   "cell_type": "code",
   "execution_count": null,
   "metadata": {
    "collapsed": false
   },
   "outputs": [],
   "source": [
    "corr_series = df.corr()['kept'].order(ascending=False)\n",
    "\n",
    "\n",
    "print(corr_series)"
   ]
  },
  {
   "cell_type": "code",
   "execution_count": null,
   "metadata": {
    "collapsed": false
   },
   "outputs": [],
   "source": [
    "selected_columns = corr_series[((corr_series > .02 ) | (corr_series < -.02))].index\n",
    "\n",
    "selected_columns = selected_columns[((selected_columns != 'kept' ) & (selected_columns != 'cancelled') & (selected_columns != 'rescheduled'))]\n",
    "\n",
    "print(selected_columns)"
   ]
  },
  {
   "cell_type": "code",
   "execution_count": null,
   "metadata": {
    "collapsed": false
   },
   "outputs": [],
   "source": [
    "\n",
    "#df.info()\n",
    "# Separate out our predictor variables from our reponse variables\n",
    "# Dump your predictors into X\n",
    "X = df.ix[:, selected_columns] \n",
    "         #& df.columns.str.startswith('hour')]\n",
    "# Dump your target variables (responses) into y\n",
    "y = df.ix[:, df.columns == 'kept']\n",
    "\n",
    "\n"
   ]
  },
  {
   "cell_type": "code",
   "execution_count": null,
   "metadata": {
    "collapsed": false
   },
   "outputs": [],
   "source": [
    "X_train, X_test, y_train, y_test = train_test_split(X, y, test_size=0.3)"
   ]
  },
  {
   "cell_type": "code",
   "execution_count": null,
   "metadata": {
    "collapsed": false
   },
   "outputs": [],
   "source": [
    "\n",
    "\n",
    "#np.all(np.isfinite(mat))"
   ]
  },
  {
   "cell_type": "code",
   "execution_count": null,
   "metadata": {
    "collapsed": false
   },
   "outputs": [],
   "source": [
    "from sklearn.linear_model import LogisticRegression\n",
    "  \n",
    "\n",
    "lr = LogisticRegression()\n",
    "lr.fit(X_train, y_train)\n",
    "lr.score(X_test, y_test)"
   ]
  },
  {
   "cell_type": "code",
   "execution_count": null,
   "metadata": {
    "collapsed": false
   },
   "outputs": [],
   "source": [
    "#0.68306903453400181"
   ]
  },
  {
   "cell_type": "code",
   "execution_count": null,
   "metadata": {
    "collapsed": false
   },
   "outputs": [],
   "source": [
    "read_in_file = read_in_file.dropna()\n",
    "\n",
    "\n",
    "\n",
    "y_pred = lr.predict(X)\n",
    "\n",
    "\n",
    "\n",
    "data = pd.DataFrame({\"Actual\":read_in_file.kept, \"Predicted\":y_pred.tolist()})\n",
    "\n"
   ]
  },
  {
   "cell_type": "code",
   "execution_count": null,
   "metadata": {
    "collapsed": false
   },
   "outputs": [],
   "source": [
    "#get calculated coeffcicients\n",
    "lr.coef_"
   ]
  },
  {
   "cell_type": "code",
   "execution_count": null,
   "metadata": {
    "collapsed": false
   },
   "outputs": [],
   "source": [
    "import csv\n",
    "\n",
    "data_top=data.head(10000)\n",
    "\n",
    "data_top.to_csv(\"predictions.csv\")\n",
    "\n"
   ]
  }
 ],
 "metadata": {
  "kernelspec": {
   "display_name": "Python 2",
   "language": "python",
   "name": "python2"
  },
  "language_info": {
   "codemirror_mode": {
    "name": "ipython",
    "version": 2
   },
   "file_extension": ".py",
   "mimetype": "text/x-python",
   "name": "python",
   "nbconvert_exporter": "python",
   "pygments_lexer": "ipython2",
   "version": "2.7.11"
  }
 },
 "nbformat": 4,
 "nbformat_minor": 0
}
